{
 "cells": [
  {
   "cell_type": "markdown",
   "id": "64d44da9-558f-4634-9de8-de0f46f93cfe",
   "metadata": {},
   "source": [
    "## Часть 1: Введение в Pandas\n",
    "\n",
    "Pandas - это библиотека Python для работы с данными. Она предоставляет мощные инструменты для анализа и манипуляции данными.\n",
    "\n",
    "### Установка Pandas\n",
    "\n",
    "Для начала убедитесь, что у вас установлена библиотека Pandas. Если ее нет, установите ее с помощью команды:\n"
   ]
  },
  {
   "cell_type": "code",
   "execution_count": 1,
   "id": "7484df51-b002-414c-ae42-75a2df57c78d",
   "metadata": {},
   "outputs": [
    {
     "name": "stdout",
     "output_type": "stream",
     "text": [
      "Collecting pandas\n",
      "  Downloading pandas-2.2.1-cp311-cp311-win_amd64.whl.metadata (19 kB)\n",
      "Collecting numpy<2,>=1.23.2 (from pandas)\n",
      "  Downloading numpy-1.26.4-cp311-cp311-win_amd64.whl.metadata (61 kB)\n",
      "     ---------------------------------------- 0.0/61.0 kB ? eta -:--:--\n",
      "     ------ --------------------------------- 10.2/61.0 kB ? eta -:--:--\n",
      "     ------------------- ------------------ 30.7/61.0 kB 660.6 kB/s eta 0:00:01\n",
      "     -------------------------------------- 61.0/61.0 kB 540.4 kB/s eta 0:00:00\n",
      "Requirement already satisfied: python-dateutil>=2.8.2 in c:\\users\\sinsv\\appdata\\local\\packages\\pythonsoftwarefoundation.python.3.11_qbz5n2kfra8p0\\localcache\\local-packages\\python311\\site-packages (from pandas) (2.9.0.post0)\n",
      "Collecting pytz>=2020.1 (from pandas)\n",
      "  Downloading pytz-2024.1-py2.py3-none-any.whl.metadata (22 kB)\n",
      "Collecting tzdata>=2022.7 (from pandas)\n",
      "  Downloading tzdata-2024.1-py2.py3-none-any.whl.metadata (1.4 kB)\n",
      "Requirement already satisfied: six>=1.5 in c:\\users\\sinsv\\appdata\\local\\packages\\pythonsoftwarefoundation.python.3.11_qbz5n2kfra8p0\\localcache\\local-packages\\python311\\site-packages (from python-dateutil>=2.8.2->pandas) (1.16.0)\n",
      "Downloading pandas-2.2.1-cp311-cp311-win_amd64.whl (11.6 MB)\n",
      "   ---------------------------------------- 0.0/11.6 MB ? eta -:--:--\n",
      "   ---------------------------------------- 0.1/11.6 MB 2.0 MB/s eta 0:00:06\n",
      "    --------------------------------------- 0.2/11.6 MB 1.8 MB/s eta 0:00:07\n",
      "    --------------------------------------- 0.2/11.6 MB 1.6 MB/s eta 0:00:08\n",
      "   - -------------------------------------- 0.5/11.6 MB 2.9 MB/s eta 0:00:04\n",
      "   --- ------------------------------------ 1.0/11.6 MB 4.1 MB/s eta 0:00:03\n",
      "   ---- ----------------------------------- 1.4/11.6 MB 5.1 MB/s eta 0:00:02\n",
      "   ------- -------------------------------- 2.2/11.6 MB 6.7 MB/s eta 0:00:02\n",
      "   -------------- ------------------------- 4.1/11.6 MB 11.4 MB/s eta 0:00:01\n",
      "   ---------------------- ----------------- 6.6/11.6 MB 15.7 MB/s eta 0:00:01\n",
      "   ------------------------------- -------- 9.2/11.6 MB 19.5 MB/s eta 0:00:01\n",
      "   ----------------------------------- ---- 10.2/11.6 MB 20.9 MB/s eta 0:00:01\n",
      "   ------------------------------------ --- 10.5/11.6 MB 24.2 MB/s eta 0:00:01\n",
      "   ---------------------------------------  11.6/11.6 MB 36.3 MB/s eta 0:00:01\n",
      "   ---------------------------------------- 11.6/11.6 MB 31.1 MB/s eta 0:00:00\n",
      "Downloading numpy-1.26.4-cp311-cp311-win_amd64.whl (15.8 MB)\n",
      "   ---------------------------------------- 0.0/15.8 MB ? eta -:--:--\n",
      "   ----- ---------------------------------- 2.1/15.8 MB 67.7 MB/s eta 0:00:01\n",
      "   ----- ---------------------------------- 2.1/15.8 MB 67.7 MB/s eta 0:00:01\n",
      "   ------- -------------------------------- 2.8/15.8 MB 25.5 MB/s eta 0:00:01\n",
      "   ------- -------------------------------- 2.8/15.8 MB 25.5 MB/s eta 0:00:01\n",
      "   ----------- ---------------------------- 4.6/15.8 MB 22.6 MB/s eta 0:00:01\n",
      "   -------------- ------------------------- 5.7/15.8 MB 21.6 MB/s eta 0:00:01\n",
      "   -------------- ------------------------- 5.7/15.8 MB 21.6 MB/s eta 0:00:01\n",
      "   ---------------- ----------------------- 6.5/15.8 MB 19.7 MB/s eta 0:00:01\n",
      "   ------------------- -------------------- 7.5/15.8 MB 18.5 MB/s eta 0:00:01\n",
      "   ------------------- -------------------- 7.9/15.8 MB 16.8 MB/s eta 0:00:01\n",
      "   ---------------------- ----------------- 8.7/15.8 MB 18.0 MB/s eta 0:00:01\n",
      "   ----------------------- ---------------- 9.2/15.8 MB 16.9 MB/s eta 0:00:01\n",
      "   ------------------------ --------------- 9.7/15.8 MB 16.3 MB/s eta 0:00:01\n",
      "   ------------------------- -------------- 9.9/15.8 MB 15.4 MB/s eta 0:00:01\n",
      "   ------------------------- -------------- 10.3/15.8 MB 15.2 MB/s eta 0:00:01\n",
      "   --------------------------- ------------ 10.8/15.8 MB 14.2 MB/s eta 0:00:01\n",
      "   ---------------------------- ----------- 11.1/15.8 MB 13.4 MB/s eta 0:00:01\n",
      "   ---------------------------------- ----- 13.7/15.8 MB 16.4 MB/s eta 0:00:01\n",
      "   ---------------------------------- ----- 13.7/15.8 MB 16.4 MB/s eta 0:00:01\n",
      "   ------------------------------------- -- 14.8/15.8 MB 14.6 MB/s eta 0:00:01\n",
      "   -------------------------------------- - 15.1/15.8 MB 15.2 MB/s eta 0:00:01\n",
      "   -------------------------------------- - 15.1/15.8 MB 15.2 MB/s eta 0:00:01\n",
      "   -------------------------------------- - 15.1/15.8 MB 15.2 MB/s eta 0:00:01\n",
      "   -------------------------------------- - 15.1/15.8 MB 15.2 MB/s eta 0:00:01\n",
      "   -------------------------------------- - 15.1/15.8 MB 15.2 MB/s eta 0:00:01\n",
      "   -------------------------------------- - 15.1/15.8 MB 15.2 MB/s eta 0:00:01\n",
      "   -------------------------------------- - 15.1/15.8 MB 15.2 MB/s eta 0:00:01\n",
      "   ---------------------------------------  15.8/15.8 MB 10.1 MB/s eta 0:00:01\n",
      "   ---------------------------------------- 15.8/15.8 MB 9.6 MB/s eta 0:00:00\n",
      "Downloading pytz-2024.1-py2.py3-none-any.whl (505 kB)\n",
      "   ---------------------------------------- 0.0/505.5 kB ? eta -:--:--\n",
      "   ---------------------------------------- 0.0/505.5 kB ? eta -:--:--\n",
      "   ---------------------------------------- 0.0/505.5 kB ? eta -:--:--\n",
      "   ---------------------------------------- 0.0/505.5 kB ? eta -:--:--\n",
      "    --------------------------------------- 10.2/505.5 kB ? eta -:--:--\n",
      "   -- ------------------------------------ 30.7/505.5 kB 330.3 kB/s eta 0:00:02\n",
      "   --- ----------------------------------- 41.0/505.5 kB 281.8 kB/s eta 0:00:02\n",
      "   ------ -------------------------------- 81.9/505.5 kB 512.0 kB/s eta 0:00:01\n",
      "   ------------ ------------------------- 163.8/505.5 kB 756.6 kB/s eta 0:00:01\n",
      "   ------------------ ------------------- 245.8/505.5 kB 942.1 kB/s eta 0:00:01\n",
      "   ----------------------------- ---------- 368.6/505.5 kB 1.2 MB/s eta 0:00:01\n",
      "   ---------------------------------------- 505.5/505.5 kB 1.4 MB/s eta 0:00:00\n",
      "Downloading tzdata-2024.1-py2.py3-none-any.whl (345 kB)\n",
      "   ---------------------------------------- 0.0/345.4 kB ? eta -:--:--\n",
      "   ---------------------------------------  337.9/345.4 kB 7.0 MB/s eta 0:00:01\n",
      "   ---------------------------------------- 345.4/345.4 kB 5.3 MB/s eta 0:00:00\n",
      "Installing collected packages: pytz, tzdata, numpy, pandas\n",
      "Successfully installed numpy-1.26.4 pandas-2.2.1 pytz-2024.1 tzdata-2024.1\n"
     ]
    }
   ],
   "source": [
    "!pip install pandas"
   ]
  },
  {
   "cell_type": "markdown",
   "id": "4b655e29-c3a5-4117-9860-2d6b9af62ac1",
   "metadata": {},
   "source": [
    "## Импорт библиотеки\n",
    "Давайте начнем с импорта библиотеки Pandas:"
   ]
  },
  {
   "cell_type": "code",
   "execution_count": 2,
   "id": "bfc3346f-3843-4aff-aec0-54321b9774f0",
   "metadata": {
    "tags": []
   },
   "outputs": [],
   "source": [
    "import pandas as pd\n"
   ]
  },
  {
   "cell_type": "markdown",
   "id": "ea8530e9-c179-48c1-8043-ff87f415ee67",
   "metadata": {},
   "source": [
    "## Часть 2: Работа с данными\n",
    "### Чтение данных\n",
    "Мы будем использовать датасет Titanic. Давайте прочитаем данные из CSV файла."
   ]
  },
  {
   "cell_type": "code",
   "execution_count": 5,
   "id": "fa5deec6-c85e-4d88-89df-bea7d75fcbba",
   "metadata": {},
   "outputs": [],
   "source": [
    "import pandas as pd\n",
    "\n",
    "# Чтение данных из файла 'titanic.csv'\n",
    "df = pd.read_csv('titanic.csv')\n"
   ]
  },
  {
   "cell_type": "markdown",
   "id": "07dfd488-4960-495e-80d8-9cf5903449b6",
   "metadata": {},
   "source": [
    "### Предпросмотр данных\n",
    "Для первого ознакомления с данными давайте выведем первые несколько строк."
   ]
  },
  {
   "cell_type": "code",
   "execution_count": 6,
   "id": "216e104c-259f-4ecd-9cd4-40362f61ca4e",
   "metadata": {},
   "outputs": [
    {
     "name": "stdout",
     "output_type": "stream",
     "text": [
      "   PassengerId  Survived  Pclass  \\\n",
      "0            1         0       3   \n",
      "1            2         1       1   \n",
      "2            3         1       3   \n",
      "3            4         1       1   \n",
      "4            5         0       3   \n",
      "\n",
      "                                                Name     Sex   Age  SibSp  \\\n",
      "0                            Braund, Mr. Owen Harris    male  22.0      1   \n",
      "1  Cumings, Mrs. John Bradley (Florence Briggs Th...  female  38.0      1   \n",
      "2                             Heikkinen, Miss. Laina  female  26.0      0   \n",
      "3       Futrelle, Mrs. Jacques Heath (Lily May Peel)  female  35.0      1   \n",
      "4                           Allen, Mr. William Henry    male  35.0      0   \n",
      "\n",
      "   Parch            Ticket     Fare Cabin Embarked  \n",
      "0      0         A/5 21171   7.2500   NaN        S  \n",
      "1      0          PC 17599  71.2833   C85        C  \n",
      "2      0  STON/O2. 3101282   7.9250   NaN        S  \n",
      "3      0            113803  53.1000  C123        S  \n",
      "4      0            373450   8.0500   NaN        S  \n"
     ]
    }
   ],
   "source": [
    "print(df.head())"
   ]
  },
  {
   "cell_type": "markdown",
   "id": "b7ba5f57-07e1-4c0f-9b55-9d78638ee2cc",
   "metadata": {},
   "source": [
    "### Информация о данных\n",
    "Чтобы получить общую информацию о данных, воспользуйтесь методом .info()."
   ]
  },
  {
   "cell_type": "code",
   "execution_count": 7,
   "id": "43650b4f-f3e7-4480-b874-b5552f564383",
   "metadata": {},
   "outputs": [
    {
     "name": "stdout",
     "output_type": "stream",
     "text": [
      "<class 'pandas.core.frame.DataFrame'>\n",
      "RangeIndex: 891 entries, 0 to 890\n",
      "Data columns (total 12 columns):\n",
      " #   Column       Non-Null Count  Dtype  \n",
      "---  ------       --------------  -----  \n",
      " 0   PassengerId  891 non-null    int64  \n",
      " 1   Survived     891 non-null    int64  \n",
      " 2   Pclass       891 non-null    int64  \n",
      " 3   Name         891 non-null    object \n",
      " 4   Sex          891 non-null    object \n",
      " 5   Age          714 non-null    float64\n",
      " 6   SibSp        891 non-null    int64  \n",
      " 7   Parch        891 non-null    int64  \n",
      " 8   Ticket       891 non-null    object \n",
      " 9   Fare         891 non-null    float64\n",
      " 10  Cabin        204 non-null    object \n",
      " 11  Embarked     889 non-null    object \n",
      "dtypes: float64(2), int64(5), object(5)\n",
      "memory usage: 83.7+ KB\n",
      "None\n"
     ]
    }
   ],
   "source": [
    "print(df.info())"
   ]
  },
  {
   "cell_type": "markdown",
   "id": "a6857118-a82e-4586-a933-4eb0df9cb74e",
   "metadata": {},
   "source": [
    "### Работа с NaN\n",
    "Часто данные содержат пропущенные значения, которые представляются как NaN (Not a Number). Pandas предоставляет удобные методы для работы с ними.\n",
    "\n",
    "Проверка на наличие NaN. Методы fillna и dropna возвращают новые Dataframe, проверьте нет ли в них NaN"
   ]
  },
  {
   "cell_type": "code",
   "execution_count": 8,
   "id": "f7910fde-24f7-4cf8-991d-01f08bc45b63",
   "metadata": {
    "tags": []
   },
   "outputs": [
    {
     "name": "stdout",
     "output_type": "stream",
     "text": [
      "     PassengerId  Survived  Pclass   Name    Sex    Age  SibSp  Parch  Ticket  \\\n",
      "0          False     False   False  False  False  False  False  False   False   \n",
      "1          False     False   False  False  False  False  False  False   False   \n",
      "2          False     False   False  False  False  False  False  False   False   \n",
      "3          False     False   False  False  False  False  False  False   False   \n",
      "4          False     False   False  False  False  False  False  False   False   \n",
      "..           ...       ...     ...    ...    ...    ...    ...    ...     ...   \n",
      "886        False     False   False  False  False  False  False  False   False   \n",
      "887        False     False   False  False  False  False  False  False   False   \n",
      "888        False     False   False  False  False   True  False  False   False   \n",
      "889        False     False   False  False  False  False  False  False   False   \n",
      "890        False     False   False  False  False  False  False  False   False   \n",
      "\n",
      "      Fare  Cabin  Embarked  \n",
      "0    False   True     False  \n",
      "1    False  False     False  \n",
      "2    False   True     False  \n",
      "3    False  False     False  \n",
      "4    False   True     False  \n",
      "..     ...    ...       ...  \n",
      "886  False   True     False  \n",
      "887  False  False     False  \n",
      "888  False   True     False  \n",
      "889  False  False     False  \n",
      "890  False   True     False  \n",
      "\n",
      "[891 rows x 12 columns]\n"
     ]
    }
   ],
   "source": [
    "# Проверка на наличие NaN в DataFrame\n",
    "print(df.isna())"
   ]
  },
  {
   "cell_type": "markdown",
   "id": "1dadeaf7-e214-4552-b054-8e4a03714f72",
   "metadata": {},
   "source": [
    "Заполнение NaN"
   ]
  },
  {
   "cell_type": "code",
   "execution_count": 10,
   "id": "7d901187-75a9-497e-8774-6e0dde584197",
   "metadata": {},
   "outputs": [],
   "source": [
    "filled_df = df.fillna(0)"
   ]
  },
  {
   "cell_type": "markdown",
   "id": "6f32fddb-ec60-456b-8958-5c81b0357d49",
   "metadata": {},
   "source": [
    "Удаление строк с NaN"
   ]
  },
  {
   "cell_type": "code",
   "execution_count": 11,
   "id": "4d188deb-0818-4b01-b3a5-9d20d2166d10",
   "metadata": {
    "tags": []
   },
   "outputs": [],
   "source": [
    "cleaned_df = df.dropna()"
   ]
  },
  {
   "cell_type": "markdown",
   "id": "7a4ff131-1593-4cd2-b2bc-e0ddb2442d3b",
   "metadata": {},
   "source": [
    "## Часть 3: Обработка DataFrame\n",
    "### Выбор данных\n",
    "Pandas позволяет выбирать данные по индексам, меткам столбцов и условиям."
   ]
  },
  {
   "cell_type": "code",
   "execution_count": 16,
   "id": "d11f6114-ce4b-4e71-afec-adf1d8c1ec6e",
   "metadata": {
    "tags": []
   },
   "outputs": [],
   "source": [
    "# Выбор столбца \"Name\"\n",
    "column = df['Name']\n",
    "\n",
    "# Выбор нескольких столбцов \"Name\" и \"Age\"\n",
    "columns = df[['Name', 'Age']]\n",
    "\n",
    "# Выбор строки по индексу 3\n",
    "selected_row = df.loc[3]\n",
    "\n",
    "# Выбор строк и столбцов по условию: мужчины старше 30 лет\n",
    "selected_data = df[(df['Sex'] == 'male') & (df['Age'] > 30)]\n"
   ]
  },
  {
   "cell_type": "markdown",
   "id": "f3102de8-d2fd-4593-bf26-721316ae51e9",
   "metadata": {},
   "source": [
    "### Сортировка данных\n",
    "Сортировка данных по значениям столбцов."
   ]
  },
  {
   "cell_type": "code",
   "execution_count": 15,
   "id": "de5e850c-e920-4ae4-aadb-3f1953438b09",
   "metadata": {
    "tags": []
   },
   "outputs": [],
   "source": [
    "# Сортировка данных по столбцу 'столбец_1' по возрастанию\n",
    "\n",
    "sorted_df = df.sort_values(by='Age')\n"
   ]
  },
  {
   "cell_type": "markdown",
   "id": "eab3cd85-5e96-4228-8834-9ef53b93689a",
   "metadata": {},
   "source": [
    "### Группировка данных\n",
    "Pandas также позволяет группировать данные и выполнять агрегирующие операции."
   ]
  },
  {
   "cell_type": "code",
   "execution_count": 17,
   "id": "25ced901-0482-49a8-8c12-d192e84e3fb3",
   "metadata": {
    "tags": []
   },
   "outputs": [],
   "source": [
    "# Найдите долю выживших среди всех PClass\n",
    "survival_rate_by_class = df.groupby('Pclass')['Survived'].mean()\n"
   ]
  },
  {
   "cell_type": "markdown",
   "id": "d0355db7-7bf9-46d1-ad51-5f2eddc42501",
   "metadata": {},
   "source": [
    "## Часть 4: Задания для практики\n",
    "Прочитайте данные из файла 'titanic.csv'.\n",
    "Проверьте, есть ли пропущенные значения в данных и заполните их нулями.\n",
    "Выведите первые 10 строк данных.\n",
    "Выберите только те строки, где значение в столбце 'Age' больше 30.\n",
    "Отсортируйте данные по столбцу 'Fare' в порядке убывания.\n",
    "Сгруппируйте данные по столбцу 'Pclass' и вычислите средний возраст ('Age') для каждого класса."
   ]
  },
  {
   "cell_type": "code",
   "execution_count": 18,
   "id": "a1b4deaa-cd06-41b3-8084-5c2d3a867811",
   "metadata": {},
   "outputs": [
    {
     "name": "stdout",
     "output_type": "stream",
     "text": [
      "Первые 10 строк данных:\n",
      "   PassengerId  Survived  Pclass  \\\n",
      "0            1         0       3   \n",
      "1            2         1       1   \n",
      "2            3         1       3   \n",
      "3            4         1       1   \n",
      "4            5         0       3   \n",
      "5            6         0       3   \n",
      "6            7         0       1   \n",
      "7            8         0       3   \n",
      "8            9         1       3   \n",
      "9           10         1       2   \n",
      "\n",
      "                                                Name     Sex   Age  SibSp  \\\n",
      "0                            Braund, Mr. Owen Harris    male  22.0      1   \n",
      "1  Cumings, Mrs. John Bradley (Florence Briggs Th...  female  38.0      1   \n",
      "2                             Heikkinen, Miss. Laina  female  26.0      0   \n",
      "3       Futrelle, Mrs. Jacques Heath (Lily May Peel)  female  35.0      1   \n",
      "4                           Allen, Mr. William Henry    male  35.0      0   \n",
      "5                                   Moran, Mr. James    male   0.0      0   \n",
      "6                            McCarthy, Mr. Timothy J    male  54.0      0   \n",
      "7                     Palsson, Master. Gosta Leonard    male   2.0      3   \n",
      "8  Johnson, Mrs. Oscar W (Elisabeth Vilhelmina Berg)  female  27.0      0   \n",
      "9                Nasser, Mrs. Nicholas (Adele Achem)  female  14.0      1   \n",
      "\n",
      "   Parch            Ticket     Fare Cabin Embarked  \n",
      "0      0         A/5 21171   7.2500     0        S  \n",
      "1      0          PC 17599  71.2833   C85        C  \n",
      "2      0  STON/O2. 3101282   7.9250     0        S  \n",
      "3      0            113803  53.1000  C123        S  \n",
      "4      0            373450   8.0500     0        S  \n",
      "5      0            330877   8.4583     0        Q  \n",
      "6      0             17463  51.8625   E46        S  \n",
      "7      1            349909  21.0750     0        S  \n",
      "8      2            347742  11.1333     0        S  \n",
      "9      0            237736  30.0708     0        C  \n",
      "\n",
      "Средний возраст по классам:\n",
      "Pclass\n",
      "1    32.923241\n",
      "2    28.091467\n",
      "3    18.177026\n",
      "Name: Age, dtype: float64\n"
     ]
    }
   ],
   "source": [
    "df = pd.read_csv('titanic.csv')\n",
    "\n",
    "# Проверим наличие пропущенных значений и заполним их нулями\n",
    "df.fillna(0, inplace=True)\n",
    "\n",
    "# Выведем первые 10 строк данных\n",
    "print(\"Первые 10 строк данных:\")\n",
    "print(df.head(10))\n",
    "\n",
    "# Выберем только те строки, где значение в столбце 'Age' больше 30\n",
    "df_above_30 = df[df['Age'] > 30]\n",
    "\n",
    "# Отсортируем данные по столбцу 'Fare' в порядке убывания\n",
    "df_sorted = df_above_30.sort_values(by='Fare', ascending=False)\n",
    "\n",
    "# Сгруппируем данные по столбцу 'Pclass' и вычислим средний возраст ('Age') для каждого класса\n",
    "average_age_by_class = df.groupby('Pclass')['Age'].mean()\n",
    "\n",
    "# Выведем результат\n",
    "print(\"\\nСредний возраст по классам:\")\n",
    "print(average_age_by_class)"
   ]
  }
 ],
 "metadata": {
  "kernelspec": {
   "display_name": "Python 3 (ipykernel)",
   "language": "python",
   "name": "python3"
  },
  "language_info": {
   "codemirror_mode": {
    "name": "ipython",
    "version": 3
   },
   "file_extension": ".py",
   "mimetype": "text/x-python",
   "name": "python",
   "nbconvert_exporter": "python",
   "pygments_lexer": "ipython3",
   "version": "3.11.5"
  }
 },
 "nbformat": 4,
 "nbformat_minor": 5
}
